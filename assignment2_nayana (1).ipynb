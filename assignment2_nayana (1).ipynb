{
  "cells": [
    {
      "cell_type": "code",
      "execution_count": 5,
      "metadata": {
        "id": "fqyKtd1LLlYX"
      },
      "outputs": [],
      "source": [
        "price_list = {'apple':10,'milk':50,'potato':30,'kiwi':25,'bread':35}\n",
        "\n",
        "def calculator_bill():\n",
        " global price_list\n",
        " total_bill = 0\n",
        " while True:\n",
        "  item = input(f\"enter item name :\").lower()\n",
        "  if item == 'done':\n",
        "    break\n",
        "  if item in price_list :\n",
        "    quantity=int(input(f\"enter the quantity of {item}:\"))\n",
        "    total_bill += price_list[item]*quantity\n",
        "  else:\n",
        "    print(f\"{item} not in our store\")\n",
        "    print(f\"total bill amount is{total_bill}\")\n",
        "\n"
      ]
    },
    {
      "cell_type": "code",
      "execution_count": null,
      "metadata": {
        "colab": {
          "base_uri": "https://localhost:8080/"
        },
        "id": "vjHMg8XBXHS8",
        "outputId": "0b4dc45e-258d-4ea8-dc6f-90b72d27e2f3"
      },
      "outputs": [
        {
          "name": "stdout",
          "output_type": "stream",
          "text": [
            "enter english mark80\n",
            "enter maths mark89\n",
            "enter science mark89\n",
            "enter malayalam mark88\n",
            "enter hindi mark87\n",
            "average is: 86.6\n",
            "grade is: B\n"
          ]
        }
      ],
      "source": [
        "mark=[int(input(\"enter english mark\")),int(input(\"enter maths mark\")),int(input(\"enter science mark\")),int(input(\"enter malayalam mark\")),int(input(\"enter hindi mark\"))]\n",
        "average=sum(mark)/len(mark)\n",
        "if average>=90:\n",
        "  GRADE = \"A\"\n",
        "elif average>=70:\n",
        "  GRADE = \"B\"\n",
        "elif average>=50:\n",
        "  GRADE = \"C\"\n",
        "else:\n",
        "  GRADE = \"F\"\n",
        "print(f\"average is:\",average)\n",
        "print(f\"grade is:\",GRADE)"
      ]
    },
    {
      "cell_type": "code",
      "execution_count": null,
      "metadata": {
        "colab": {
          "background_save": true,
          "base_uri": "https://localhost:8080/"
        },
        "id": "WfpmbLXtcNMg",
        "outputId": "65f19b22-2351-4cf5-a26b-cb7c0eae8abc"
      },
      "outputs": [
        {
          "name": "stdout",
          "output_type": "stream",
          "text": [
            "welcome ticket booking\n",
            "available seats: [1, 2, 3, 4, 5, 6, 7, 8, 9, 10]\n",
            "seat 12 not available\n",
            " remaining available seats [1, 2, 3, 4, 5, 6, 7, 8, 9, 10]\n",
            "seat 4 booked successfully\n",
            "seat 11 not available\n",
            " remaining available seats [1, 2, 3, 5, 6, 7, 8, 9, 10]\n",
            "seat 1 booked successfully\n",
            "seat 14 not available\n",
            " remaining available seats [2, 3, 5, 6, 7, 8, 9, 10]\n"
          ]
        }
      ],
      "source": [
        "def main():\n",
        "\n",
        " available_seats =[1,2,3,4,5,6,7,8,9,10]\n",
        " print(\"welcome ticket booking\")\n",
        " print(\"available seats:\",available_seats)\n",
        " while True:\n",
        "  seat_number=int(input(\"enter seat number to book\"))\n",
        "  if seat_number==0:\n",
        "    print(\"thank you\")\n",
        "    break\n",
        "  if seat_number in available_seats:\n",
        "    available_seats.remove(seat_number)\n",
        "    print(f\"seat {seat_number} booked successfully\")\n",
        "  else:\n",
        "    print(f\"seat {seat_number} not available\")\n",
        "    print(\" remaining available seats\",available_seats)\n",
        "  if not available_seats:\n",
        "    print(\"seats booked\")\n",
        "    break\n",
        "    print(\"invalid\")\n",
        "if __name__==\"__main__\":\n",
        "  main()"
      ]
    }
  ],
  "metadata": {
    "colab": {
      "provenance": []
    },
    "kernelspec": {
      "display_name": "Python 3",
      "name": "python3"
    },
    "language_info": {
      "name": "python"
    }
  },
  "nbformat": 4,
  "nbformat_minor": 0
}